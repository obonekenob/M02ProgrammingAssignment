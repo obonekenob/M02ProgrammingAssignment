{
 "cells": [
  {
   "cell_type": "code",
   "execution_count": 9,
   "id": "ee0be3f7",
   "metadata": {},
   "outputs": [
    {
     "name": "stdout",
     "output_type": "stream",
     "text": [
      "too low\n"
     ]
    }
   ],
   "source": [
    "# Paul R Thompson\n",
    "# Exercise 4.1\n",
    "\n",
    "secret = 7                # set vale to 7\n",
    "guess = 5                 # set value to 5\n",
    "if guess < secret:        \n",
    "    print(\"too low\")      # print if guess less than secret\n",
    "elif guess > secret:\n",
    "    print(\"too high\")     # print if guess greater than secret\n",
    "else:\n",
    "    print(\"just right\")   # print if guess is equal to secret\n"
   ]
  },
  {
   "cell_type": "code",
   "execution_count": 10,
   "id": "d15c3f86",
   "metadata": {},
   "outputs": [
    {
     "name": "stdout",
     "output_type": "stream",
     "text": [
      "watermelon\n"
     ]
    }
   ],
   "source": [
    "# Paul R. Thompson\n",
    "# Exercise 4.2\n",
    "\n",
    "small = False             # set boolean to false\n",
    "green = True              #set boolean to true\n",
    "\n",
    "if small:                   # if boolean true check next if / if false drop to else stmnt\n",
    "    if green:               #   check next boolean\n",
    "        print(\"pea\")        #   if true print pea\n",
    "    else:\n",
    "        print(\"cherry\")     #   if false print cherry and leave if stmnt\n",
    "else:                       # first boolean false check next if\n",
    "    if green:               # if true its a watermelon\n",
    "        print(\"watermelon\")\n",
    "    else:                   # if false its a pumpkin\n",
    "        print(\"pumpkin\")\n",
    "\n"
   ]
  },
  {
   "cell_type": "code",
   "execution_count": 1,
   "id": "85eceeb1",
   "metadata": {},
   "outputs": [
    {
     "name": "stdout",
     "output_type": "stream",
     "text": [
      "3\n",
      "2\n",
      "1\n",
      "0\n"
     ]
    }
   ],
   "source": [
    "# Paul R. Thompson\n",
    "# Exercise 6.1\n",
    "\n",
    "for value in [3, 2, 1, 0]:     # define the list\n",
    "    print(value)               # print the list\n",
    "    \n",
    "    "
   ]
  },
  {
   "cell_type": "code",
   "execution_count": 11,
   "id": "2df9d4b2",
   "metadata": {},
   "outputs": [
    {
     "name": "stdout",
     "output_type": "stream",
     "text": [
      "too low  1\n",
      "too low  2\n",
      "too low  3\n",
      "too low  4\n",
      "too low  5\n",
      "too low  6\n",
      "found it!  7\n"
     ]
    }
   ],
   "source": [
    "# Paul R. Thompson\n",
    "# Exercise 6.2\n",
    "\n",
    "guess_me = 7        # assign the number to be guessed\n",
    "number = 1          # assign beining number to check againt number\n",
    "\n",
    "while True:                           # Begin while loop\n",
    "    if number < guess_me:             # if number too low \n",
    "        print(\"too low \", number)     # print msg, then drop to loop increment\n",
    "    elif number ==guess_me:           # number equal to guess_me  \n",
    "        print(\"found it! \", number)   # print found message\n",
    "        break                         # exit while loop\n",
    "    elif number > guess_me:           # number is greater than guess_me number \n",
    "        print(\"oops \", number)        # print oops message\n",
    "        break                         # exit while loop\n",
    "    number += 1                       # increment number to compare to guess me and continue while loop\n",
    "    \n",
    "    "
   ]
  },
  {
   "cell_type": "code",
   "execution_count": 19,
   "id": "537e372f",
   "metadata": {},
   "outputs": [
    {
     "name": "stdout",
     "output_type": "stream",
     "text": [
      "too low  0\n",
      "too low  1\n",
      "too low  2\n",
      "too low  3\n",
      "too low  4\n",
      "found it!  5\n"
     ]
    }
   ],
   "source": [
    "# Paul R. Thompson\n",
    "# Exercise 6.3\n",
    "\n",
    "guess_me = 5                          # assign number to guess\n",
    "\n",
    "for number in range(10):              # set for loop for 10 iterations\n",
    "    if number < guess_me:             \n",
    "        print(\"too low \", number)     # number less than guess, print msg\n",
    "    elif number == guess_me:\n",
    "        print(\"found it! \", number)   # number equal to guess, print msg\n",
    "        break                         # exit for loop\n",
    "    else:\n",
    "        print(\"oops \", number)        # there is a problem / guess_me number may be to big\n",
    "                                      # the for loop will reach the end of range and exit.\n",
    "                                      # the print stmnt will never execute\n",
    "        break                         # exit for loop\n",
    "\n"
   ]
  },
  {
   "cell_type": "code",
   "execution_count": null,
   "id": "040f59d5",
   "metadata": {},
   "outputs": [],
   "source": []
  }
 ],
 "metadata": {
  "kernelspec": {
   "display_name": "Python 3 (ipykernel)",
   "language": "python",
   "name": "python3"
  },
  "language_info": {
   "codemirror_mode": {
    "name": "ipython",
    "version": 3
   },
   "file_extension": ".py",
   "mimetype": "text/x-python",
   "name": "python",
   "nbconvert_exporter": "python",
   "pygments_lexer": "ipython3",
   "version": "3.9.13"
  }
 },
 "nbformat": 4,
 "nbformat_minor": 5
}
